{
 "cells": [
  {
   "cell_type": "markdown",
   "metadata": {},
   "source": [
    "# Borough Socioeconomic Structure"
   ]
  },
  {
   "cell_type": "code",
   "execution_count": 1,
   "metadata": {},
   "outputs": [],
   "source": [
    "import pandas as pd\n",
    "import scipy as sp\n",
    "import matplotlib.pyplot as plt"
   ]
  },
  {
   "cell_type": "code",
   "execution_count": 3,
   "metadata": {},
   "outputs": [
    {
     "name": "stdout",
     "output_type": "stream",
     "text": [
      "47\n",
      "area\n",
      "Newham                       21550.000000\n",
      "Barking and Dagenham         21938.888889\n",
      "Wales                        22027.777778\n",
      "North East                   22311.111111\n",
      "Northern Ireland             22572.222222\n",
      "Yorkshire and The Humber     23211.111111\n",
      "North West                   23650.000000\n",
      "West Midlands                23722.222222\n",
      "East Midlands                23983.333333\n",
      "Waltham Forest               24177.777778\n",
      "South West                   24427.777778\n",
      "Scotland                     24672.222222\n",
      "Bexley                       26205.555556\n",
      "Brent                        26294.444444\n",
      "United Kingdom               26844.444444\n",
      "Lewisham                     27366.666667\n",
      "England                      27427.777778\n",
      "Havering                     27616.666667\n",
      "Croydon                      28127.777778\n",
      "Hillingdon                   28138.888889\n",
      "East of England              28338.888889\n",
      "Enfield                      28450.000000\n",
      "Redbridge                    28938.888889\n",
      "Sutton                       28983.333333\n",
      "Hackney                      29172.222222\n",
      "Greenwich                    29361.111111\n",
      "Hounslow                     30222.222222\n",
      "Ealing                       30383.333333\n",
      "South East                   30805.555556\n",
      "Harrow                       31494.444444\n",
      "Haringey                     32722.222222\n",
      "Lambeth                      33233.333333\n",
      "Southwark                    33827.777778\n",
      "Bromley                      34555.555556\n",
      "Tower Hamlets                35572.222222\n",
      "Kingston-upon-Thames         36311.111111\n",
      "London                       36655.555556\n",
      "Barnet                       38722.222222\n",
      "Merton                       40000.000000\n",
      "Islington                    44866.666667\n",
      "Wandsworth                   48855.555556\n",
      "Hammersmith and Fulham       50038.888889\n",
      "Richmond-upon-Thames         53316.666667\n",
      "Camden                       63727.777778\n",
      "Westminster                  80794.444444\n",
      "City of London              119200.000000\n",
      "Kensington and Chelsea      124833.333333\n",
      "Name: mean_income, dtype: float64\n",
      "area\n",
      "Wales                       17466.666667\n",
      "Newham                      17527.777778\n",
      "North East                  17555.555556\n",
      "Northern Ireland            17572.222222\n",
      "Yorkshire and The Humber    17744.444444\n",
      "North West                  17900.000000\n",
      "West Midlands               18094.444444\n",
      "East Midlands               18133.333333\n",
      "South West                  18372.222222\n",
      "Scotland                    18705.555556\n",
      "United Kingdom              19005.555556\n",
      "Barking and Dagenham        19033.333333\n",
      "England                     19216.666667\n",
      "Brent                       19427.777778\n",
      "Waltham Forest              19533.333333\n",
      "East of England             19966.666667\n",
      "Enfield                     20838.888889\n",
      "Greenwich                   20855.555556\n",
      "South East                  20900.000000\n",
      "Hounslow                    20900.000000\n",
      "Haringey                    21072.222222\n",
      "Ealing                      21083.333333\n",
      "Bexley                      21177.777778\n",
      "Lewisham                    21255.555556\n",
      "Havering                    21438.888889\n",
      "Hackney                     21561.111111\n",
      "Croydon                     21644.444444\n",
      "Hillingdon                  21766.666667\n",
      "Redbridge                   21822.222222\n",
      "Southwark                   22183.333333\n",
      "Sutton                      22216.666667\n",
      "Harrow                      22366.666667\n",
      "London                      22416.666667\n",
      "Tower Hamlets               22733.333333\n",
      "Lambeth                     22905.555556\n",
      "Barnet                      23194.444444\n",
      "Merton                      23561.111111\n",
      "Bromley                     24350.000000\n",
      "Kingston-upon-Thames        24550.000000\n",
      "Islington                   25266.666667\n",
      "Hammersmith and Fulham      25416.666667\n",
      "Wandsworth                  27244.444444\n",
      "Camden                      27516.666667\n",
      "Richmond-upon-Thames        29155.555556\n",
      "Westminster                 29494.444444\n",
      "Kensington and Chelsea      31238.888889\n",
      "City of London              53216.666667\n",
      "Name: median_income, dtype: float64\n"
     ]
    }
   ],
   "source": [
    "earningdf = pd.read_csv('data/london_earnings_by_borough.csv')\n",
    "incomedf = pd.read_csv('data/london_taxpayer_income.csv')\n",
    "print(earningdf['area_code'].nunique())\n",
    "# print(earningdf.describe())\n",
    "boroughpaydf = earningdf.groupby('area').mean()['pay'].sort_values()\n",
    "boroughmeanincomedf = incomedf.groupby('area').mean()['mean_income'].sort_values()\n",
    "boroughmedianincomedf = incomedf.groupby('area').mean()['median_income'].sort_values()\n",
    "# print(boroughpaydf)\n",
    "print(boroughmeanincomedf)\n",
    "print(boroughmedianincomedf)\n",
    "# boroughpaydf.plot.bar()\n",
    "# sortedboroughpay = boroughpaydf.sort_values()\n",
    "# print(sortedboroughpay)\n",
    "# sortedboroughpay.plot.bar()\n",
    "# plt.bar(earningdf.groupby('area').mean()['pay'])"
   ]
  },
  {
   "cell_type": "code",
   "execution_count": 5,
   "metadata": {},
   "outputs": [
    {
     "name": "stdout",
     "output_type": "stream",
     "text": [
      "     date         time gender                      session medal_ceremony  \\\n",
      "0  03-Aug  10:0013:45      M        400m Hurdles: round 1            NaN   \n",
      "1  03-Aug  10:0013:45      M  3000m Steeplechase: round 1            NaN   \n",
      "2  03-Aug  10:0013:45      M           Hammer: qualifying            NaN   \n",
      "3  03-Aug  10:0013:45      M         Shot Put: qualifying            NaN   \n",
      "4  03-Aug  10:0013:45      W   100m: classification heats            NaN   \n",
      "\n",
      "    code AA    A   B   C   D   E  limit                           venue  \\\n",
      "0  AT001    150  95  65  40  20   20.0  Olympic Park - Olympic Stadium   \n",
      "1  AT001    150  95  65  40  20   20.0  Olympic Park - Olympic Stadium   \n",
      "2  AT001    150  95  65  40  20   20.0  Olympic Park - Olympic Stadium   \n",
      "3  AT001    150  95  65  40  20   20.0  Olympic Park - Olympic Stadium   \n",
      "4  AT001    150  95  65  40  20   20.0  Olympic Park - Olympic Stadium   \n",
      "\n",
      "       event  \n",
      "0  Athletics  \n",
      "1  Athletics  \n",
      "2  Athletics  \n",
      "3  Athletics  \n",
      "4  Athletics  \n"
     ]
    }
   ],
   "source": [
    "saledf = pd.read_csv('data/london_tickets_for_sale.csv',encoding= 'unicode_escape')\n",
    "print(saledf.head())"
   ]
  },
  {
   "cell_type": "code",
   "execution_count": null,
   "metadata": {},
   "outputs": [],
   "source": []
  }
 ],
 "metadata": {
  "kernelspec": {
   "display_name": "Python 3",
   "language": "python",
   "name": "python3"
  },
  "language_info": {
   "codemirror_mode": {
    "name": "ipython",
    "version": 3
   },
   "file_extension": ".py",
   "mimetype": "text/x-python",
   "name": "python",
   "nbconvert_exporter": "python",
   "pygments_lexer": "ipython3",
   "version": "3.7.4"
  }
 },
 "nbformat": 4,
 "nbformat_minor": 2
}
